{
 "cells": [
  {
   "cell_type": "markdown",
   "source": [
    "https://github.com/TendTo/Quantum-random-walk-simulation/blob/main/QuantumWalk.ipynb"
   ],
   "metadata": {
    "collapsed": false
   },
   "id": "dc0d0ac8941f4317"
  },
  {
   "cell_type": "code",
   "execution_count": null,
   "id": "initial_id",
   "metadata": {
    "collapsed": true
   },
   "outputs": [],
   "source": [
    "from pygments.lexers import graphviz\n",
    "import numpy as np\n",
    "import networkx as nx\n",
    "from networkx import hypercube_graph\n",
    "from networkx.drawing.nx_agraph import graphviz_layout\n",
    "import matplotlib.pyplot as plt\n",
    "from typing import Callable\n",
    "from qiskit import QuantumCircuit, QuantumRegister, ClassicalRegister, transpile\n",
    "from qiskit.quantum_info import Operator\n",
    "from qiskit.visualization import circuit_drawer, plot_histogram, plot_bloch_vector\n",
    "from qiskit_aer import AerSimulator\n",
    "backend = AerSimulator()\n",
    "from numpy import pi\n",
    "import pylatexenc\n",
    "import graphviz\n",
    "import pygraphviz\n",
    "DIMENSIONS = 2\n"
   ]
  },
  {
   "cell_type": "markdown",
   "source": [
    "Quantum walk on a hypercube\n",
    "The quantum random walk can be used to walk on the vertices of a hypercube."
   ],
   "metadata": {
    "collapsed": false
   },
   "id": "50bec0e50531cc0a"
  },
  {
   "cell_type": "markdown",
   "source": [
    "Hypercube\n",
    "A hypercube with degree \n",
    " is a graph with \n",
    " vertices, where each vertex is connected to all the other vertices that differ by a single bit."
   ],
   "metadata": {
    "collapsed": false
   },
   "id": "be9f43d38498b6aa"
  },
  {
   "cell_type": "code",
   "execution_count": null,
   "outputs": [],
   "source": [
    "n = DIMENSIONS # Number of qubits\n",
    "\n",
    "G = hypercube_graph(n)  # Create hypercube graph\n",
    "# Draw graph\n",
    "nx.draw(\n",
    "    G,\n",
    "    with_labels=True,\n",
    "    pos=graphviz_layout(G, prog=\"dot\"),\n",
    "    node_color=\"#dddddd\",\n",
    "    node_size=2500,\n",
    ")\n",
    "plt.show()"
   ],
   "metadata": {
    "collapsed": false
   },
   "id": "45aa8c9663447d24"
  },
  {
   "cell_type": "markdown",
   "source": [
    "Quantum registers\n",
    "A circuit implementing a quantum coined needs:\n",
    "\n",
    " qubits to represent the coin\n",
    "the coin will yield one of the \n",
    " possible outcomes, indicating which qubit to invert\n",
    " qubits to represent the walker position\n",
    "the numbers are represented in binary form, with the most significant bit at the top\n",
    " classical bits to store the measurement of the walker position"
   ],
   "metadata": {
    "collapsed": false
   },
   "id": "9a80b1fa86f91ba1"
  },
  {
   "cell_type": "code",
   "execution_count": null,
   "outputs": [],
   "source": [
    "\n",
    "n = DIMENSIONS  # Dimension of the hypercube\n",
    "\n",
    "\n",
    "def graph_walk_circuit(\n",
    "    n: int,\n",
    ") -> tuple[QuantumCircuit, QuantumRegister, QuantumRegister, ClassicalRegister]:\n",
    "    \"\"\"Create a quantum circuit for the graph walk.\n",
    "\n",
    "    Args:\n",
    "        n: number of qubits used to represent the position of the walker\n",
    "\n",
    "    Returns:\n",
    "        quantum circuit for the graph walk, walker register, coin register, and output register\n",
    "    \"\"\"\n",
    "    walker_r = QuantumRegister(2**n, name=\"w\")\n",
    "    coin_r = QuantumRegister(n, name=\"c\")\n",
    "    classic_r = ClassicalRegister(2**n, name=\"output\")\n",
    "    qc = QuantumCircuit(walker_r, coin_r, classic_r)\n",
    "    return qc, walker_r, coin_r, classic_r\n",
    "\n",
    "\n",
    "qc, _, _, _ = graph_walk_circuit(n)\n",
    "qc.draw(output=\"mpl\", initial_state=True)"
   ],
   "metadata": {
    "collapsed": false
   },
   "id": "8989c43b51277b79"
  },
  {
   "cell_type": "markdown",
   "source": [
    "Operators\n",
    "Coin operator\n",
    "In this case, the coin operator is the Grover coin, \n",
    ". It is defined as:"
   ],
   "metadata": {
    "collapsed": false
   },
   "id": "153928f7b77852ec"
  },
  {
   "cell_type": "code",
   "execution_count": null,
   "outputs": [],
   "source": [
    "n = DIMENSIONS  # Dimension of the hypercube\n",
    "\n",
    "def grover_coin(coin_r: QuantumRegister) -> Operator:\n",
    "    matrix_size = 2 ** len(coin_r)\n",
    "    grover_matrix = np.full((matrix_size, matrix_size), 2 / matrix_size) - np.eye(\n",
    "        matrix_size\n",
    "    )\n",
    "    return Operator(grover_matrix)\n",
    "\n",
    "\n",
    "coin_r = QuantumRegister(n, name=\"c\")\n",
    "qc = QuantumCircuit(coin_r)\n",
    "gc = grover_coin(coin_r)\n",
    "qc.unitary(gc, coin_r[:], label=\"Grover Coin\")\n",
    "qc.draw(output=\"mpl\", initial_state=True)"
   ],
   "metadata": {
    "collapsed": false
   },
   "id": "afff45abc529b17a"
  },
  {
   "cell_type": "markdown",
   "source": [
    "Shift operator\n",
    "Let \n",
    " be the vector with a single 1 at position \n",
    " and 0s everywhere else. The shift operator \n",
    " is defined as:"
   ],
   "metadata": {
    "collapsed": false
   },
   "id": "946558f9b18d7f38"
  },
  {
   "cell_type": "code",
   "execution_count": null,
   "outputs": [],
   "source": [
    "n = DIMENSIONS  # Dimension of the hypercube\n",
    "\n",
    "\n",
    "def shift_operator(\n",
    "    walker_r: QuantumRegister, coin_r: QuantumRegister\n",
    ") -> QuantumCircuit:\n",
    "    \"\"\"Create a quantum circuit for the shift operator.\n",
    "\n",
    "    Args:\n",
    "        walker_r: the quantum register containing the walker's position qubits\n",
    "        coin_r: the quantum register containing the coin qubit\n",
    "\n",
    "    Returns:\n",
    "        quantum circuit for the shift operator\n",
    "    \"\"\"\n",
    "    qc = QuantumCircuit(walker_r, coin_r)\n",
    "    for i in reversed(range(len(walker_r))):\n",
    "        qc.mcx(coin_r, walker_r[i])\n",
    "        qc.x(coin_r[-1])\n",
    "        for j in range(1, len(coin_r)):\n",
    "            if i & ((1 << j) - 1) == 0:\n",
    "                qc.x(coin_r[-(j + 1)])\n",
    "    return qc\n",
    "\n",
    "\n",
    "qc, walker_r, coin_r, _ = graph_walk_circuit(n)\n",
    "qc = shift_operator(walker_r, coin_r)\n",
    "qc.draw(output=\"mpl\", initial_state=True)"
   ],
   "metadata": {
    "collapsed": false
   },
   "id": "e3a977252df4826f"
  },
  {
   "cell_type": "markdown",
   "source": [
    "Quantum walk operator\n",
    "The quantum walk operator is the composition of the coin operator and the shift operator:"
   ],
   "metadata": {
    "collapsed": false
   },
   "id": "9769004813b96479"
  },
  {
   "cell_type": "code",
   "execution_count": null,
   "outputs": [],
   "source": [
    "n = DIMENSIONS # Dimension of the hypercube\n",
    "\n",
    "\n",
    "def graph_walk_step(\n",
    "    walker_r: QuantumRegister, coin_r: QuantumRegister\n",
    ") -> QuantumCircuit:\n",
    "    \"\"\"Create a quantum circuit for one step of the graph walk.\n",
    "\n",
    "    Args:\n",
    "        walker_r: the quantum register containing the walker's position qubits\n",
    "        coin_r: the quantum register containing the coin qubit\n",
    "\n",
    "    Returns:\n",
    "        quantum circuit for one step of the graph walk\n",
    "    \"\"\"\n",
    "    shift = shift_operator(walker_r, coin_r)\n",
    "    gc = grover_coin(coin_r)\n",
    "    walk_step = QuantumCircuit(walker_r, coin_r)\n",
    "    walk_step.unitary(gc, coin_r, label=\"Grover Coin\")\n",
    "    walk_step.compose(shift, inplace=True)\n",
    "    return walk_step\n",
    "\n",
    "\n",
    "walk_step = graph_walk_step(walker_r, coin_r)\n",
    "walk_step.draw(output=\"mpl\", initial_state=True)"
   ],
   "metadata": {
    "collapsed": false
   },
   "id": "3ad29fd69b6e9a67"
  },
  {
   "cell_type": "markdown",
   "source": [
    "Circuit\n",
    "With all the operators defined, the circuit can be built by iterating the single step operator as many times as needed. Finally, the walker position is measured and the result is stored in the classical bits."
   ],
   "metadata": {
    "collapsed": false
   },
   "id": "b4f76306c6dfe9c5"
  },
  {
   "cell_type": "code",
   "execution_count": null,
   "outputs": [],
   "source": [
    "n = DIMENSIONS  # Dimension of the hypercube\n",
    "n_steps = 3  # Number of steps of the quantum walk\n",
    "\n",
    "\n",
    "def graph_walk(\n",
    "    n: int,\n",
    "    n_steps: int,\n",
    ") -> QuantumCircuit:\n",
    "    \"\"\"Create a quantum circuit for the quantum walk over a graph.\n",
    "\n",
    "    Args:\n",
    "        n: dimension of the hypercube\n",
    "        n_steps: number of steps of the quantum walk\n",
    "        initial_position: initial position of the walker\n",
    "        initial_coin_value: initial value of the coin\n",
    "\n",
    "    Returns:\n",
    "        quantum circuit for the quantum walk over a graph\n",
    "    \"\"\"\n",
    "    qc, walker_r, coin_r, classic_r = graph_walk_circuit(n)\n",
    "    for i in range(n_steps):\n",
    "        step_gate = graph_walk_step(walker_r, coin_r).to_gate(label=f\"Step #{i + 1}\")\n",
    "        qc.append(step_gate, walker_r[:] + coin_r[:])\n",
    "    qc.barrier()\n",
    "    qc.measure(walker_r, reversed(classic_r))\n",
    "    return qc\n",
    "\n",
    "\n",
    "qc = graph_walk(n, n_steps)\n",
    "qc.draw(output=\"mpl\", initial_state=True)"
   ],
   "metadata": {
    "collapsed": false
   },
   "id": "9a9ce5294ed0d399"
  },
  {
   "cell_type": "markdown",
   "source": [
    "Results of the simulation\n",
    "The selection of the coin operator determines the behavior of the quantum walk. The Grover coin is used to produce a biased walk."
   ],
   "metadata": {
    "collapsed": false
   },
   "id": "a323211a16c60c69"
  },
  {
   "cell_type": "code",
   "execution_count": null,
   "outputs": [],
   "source": [
    "n = DIMENSIONS # Dimension of the hypercube\n",
    "n_steps = 30  # Number of steps of the quantum walk\n",
    "n_runs = 5000  # Number of runs of the quantum circuit\n",
    "\n",
    "qc = graph_walk(n, n_steps)\n",
    "\n",
    "def plot_results(qc: QuantumCircuit, n_runs: int, title: str):\n",
    "    \"\"\"Plot the results of the quantum walk.\n",
    "\n",
    "    Args:\n",
    "        qc: quantum circuit for the quantum walk\n",
    "        n_runs: number of runs of the quantum circuit\n",
    "\n",
    "    Returns:\n",
    "        histogram of the results of the quantum walk\n",
    "    \"\"\"\n",
    "    simulator = AerSimulator() \n",
    "    transpiled_qc = transpile(qc, simulator)\n",
    "    results = simulator.run(transpiled_qc, shots=n_runs).result()\n",
    "    counts = results.get_counts(transpiled_qc)\n",
    "    counts = {int(k, 2): v for k, v in counts.items()}\n",
    "    return plot_histogram(counts, title=title)\n",
    "\n",
    "\n",
    "plot_results(qc, n_runs, \"Quantum Walk on a Hypercube\")"
   ],
   "metadata": {
    "collapsed": false
   },
   "id": "40a2da34f161519b"
  },
  {
   "cell_type": "code",
   "execution_count": null,
   "outputs": [],
   "source": [],
   "metadata": {
    "collapsed": false
   },
   "id": "be6e6e574c07c90e"
  }
 ],
 "metadata": {
  "kernelspec": {
   "display_name": "Python 3",
   "language": "python",
   "name": "python3"
  },
  "language_info": {
   "codemirror_mode": {
    "name": "ipython",
    "version": 2
   },
   "file_extension": ".py",
   "mimetype": "text/x-python",
   "name": "python",
   "nbconvert_exporter": "python",
   "pygments_lexer": "ipython2",
   "version": "2.7.6"
  }
 },
 "nbformat": 4,
 "nbformat_minor": 5
}
