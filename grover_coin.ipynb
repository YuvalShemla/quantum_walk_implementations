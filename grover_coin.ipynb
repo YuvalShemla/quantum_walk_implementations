{
 "cells": [
  {
   "cell_type": "code",
   "execution_count": 118,
   "outputs": [],
   "source": [
    "from qiskit import QuantumCircuit, transpile, QuantumRegister\n",
    "from qiskit_aer import AerSimulator\n",
    "backend = AerSimulator()\n",
    "import numpy as np\n",
    "from qiskit.quantum_info import Operator\n",
    "import matplotlib.pyplot as plt  \n",
    "%matplotlib inline\n",
    "\n",
    "# from qiskit.visualization import plot_circuit_layout, plot_histogram\n",
    "# from qiskit.circuit.library import UnitaryGate"
   ],
   "metadata": {
    "collapsed": false,
    "ExecuteTime": {
     "end_time": "2024-10-12T15:24:10.583007Z",
     "start_time": "2024-10-12T15:24:10.578990Z"
    }
   },
   "id": "e14eb93784616ce6"
  },
  {
   "cell_type": "markdown",
   "source": [
    "# Grover Coin:\n",
    "\n",
    "### a. Vertex \\( j \\)\n",
    "- **Role**: Represents the current position of the quantum walker on the graph.\n",
    "- **Selection**: Determines which column of the probability matrix \\( P \\) is used to construct the coin operator \\( C_j \\).\n",
    "\n",
    "### b. Initial State\n",
    "- **Position Register**: Encoded by the qubits in the coin register. In this example, the initial state is set to \\( |01> \\).\n",
    "- **Coin Register**: Determines the superposition of possible transitions from the current vertex.\n",
    "\n",
    "### c. Coin Operator \\( C_j \\)\n",
    "- **Function**: Creates a superposition in the coin register based on the transition probabilities from vertex \\( j \\).\n",
    "- **Construction**: Derived from the Grover diffusion operator, reflecting the state about the desired superposition \\( |psi_j> \\).\n",
    "\n",
    "### d. Propagating the Walk\n",
    "- **Coin Operator**: Prepares the coin register in a superposition state reflecting the transition probabilities.\n",
    "- **Shift Operator**: *(Not implemented here)* Moves the walker to a new position based on the coin register's state.\n",
    "- **Iteration**: Repeating the application of the coin and shift operators propagates the walker through the graph.\n"
   ],
   "metadata": {
    "collapsed": false
   },
   "id": "79a0b284da12"
  },
  {
   "cell_type": "code",
   "execution_count": 119,
   "outputs": [
    {
     "data": {
      "text/plain": "<Figure size 672.017x200.667 with 1 Axes>",
      "image/png": "[encoded data removed]"
     },
     "metadata": {},
     "output_type": "display_data"
    },
    {
     "name": "stdout",
     "output_type": "stream",
     "text": [
      "Statevector after applying the coin operator for vertex 2:\n",
      "|00>: amplitude = (0.6000000000000002+0j)\n",
      "|01>: amplitude = (-0.3999999999999998+0j)\n",
      "|11>: amplitude = (0.6928203230275511+0j)\n"
     ]
    }
   ],
   "source": [
    "# Define the number of vertices\n",
    "N = 4\n",
    "\n",
    "# Define your arbitrary probability matrix P \n",
    "P = np.array([\n",
    "    [0,   0.4, 0.3, 0.3],\n",
    "    [0.4, 0,   0.3, 0.5],\n",
    "    [0.3, 0.3, 0,   0.2],\n",
    "    [0.3, 0.3, 0.4, 0],\n",
    "])\n",
    "\n",
    "# Verify that each column sums to 1\n",
    "assert np.allclose(P.sum(axis=0), np.ones(N)), \"Each column of P must sum to 1\"\n",
    "\n",
    "# Number of qubits required for the coin register \n",
    "n_qubits = int(np.ceil(np.log2(N)))\n",
    "\n",
    "# Function to construct the coin operator\n",
    "def arbitrary_coin_operator(P_col, n_qubits):\n",
    "    \"\"\"Constructs the coin operator for a given probability column P_col.\"\"\"\n",
    "    amplitudes = np.sqrt(P_col)\n",
    "    dimension = 2 ** n_qubits\n",
    "    if len(amplitudes) < dimension:\n",
    "        amplitudes = np.pad(amplitudes, (0, dimension - len(amplitudes)), 'constant')\n",
    "    amplitudes = amplitudes / np.linalg.norm(amplitudes)\n",
    "    desired_state = amplitudes\n",
    "    projector = np.outer(desired_state, np.conj(desired_state))\n",
    "    identity = np.identity(len(desired_state))\n",
    "    C_j_matrix = 2 * projector - identity\n",
    "    return Operator(C_j_matrix)\n",
    "\n",
    "# Create the coin register and quantum circuit\n",
    "coin_r = QuantumRegister(n_qubits, name='c')\n",
    "qc = QuantumCircuit(coin_r)\n",
    "\n",
    "# Choose the first state: \n",
    "# Flip the first qubit to create |01⟩\n",
    "qc.x(0)  \n",
    "\n",
    "# Choose a vertex j\n",
    "j = 2\n",
    "\n",
    "# Apply the coin operator\n",
    "C_j_gate = arbitrary_coin_operator(P[:, j], n_qubits)\n",
    "qc.unitary(C_j_gate, coin_r[:], label=f\"Coin Operator for vertex {j}\")\n",
    "qc.draw(output=\"mpl\", initial_state=True)\n",
    "plt.show()\n",
    "# Simulate the circuit\n",
    "qc.save_statevector()\n",
    "simulator = AerSimulator()\n",
    "transpiled_qc = transpile(qc, simulator)\n",
    "results = simulator.run(transpiled_qc).result()\n",
    "statevector = results.get_statevector()\n",
    "\n",
    "# Print results\n",
    "statevector = np.asarray(statevector)\n",
    "print(f\"Statevector after applying the coin operator for vertex {j}:\")\n",
    "for idx, amplitude in enumerate(statevector):\n",
    "    if np.abs(amplitude) > 1e-6:\n",
    "        state_bin = format(idx, '0{}b'.format(n_qubits))\n",
    "        print(f\"|{state_bin}>: amplitude = {amplitude}\")\n"
   ],
   "metadata": {
    "collapsed": false,
    "ExecuteTime": {
     "end_time": "2024-10-12T15:24:12.265451Z",
     "start_time": "2024-10-12T15:24:12.042390Z"
    }
   },
   "id": "d4e1a75701308713"
  },
  {
   "cell_type": "code",
   "execution_count": null,
   "outputs": [],
   "source": [],
   "metadata": {
    "collapsed": false
   },
   "id": "8e76075d7e80ccf1"
  }
 ],
 "metadata": {
  "kernelspec": {
   "display_name": "Python 3",
   "language": "python",
   "name": "python3"
  },
  "language_info": {
   "codemirror_mode": {
    "name": "ipython",
    "version": 2
   },
   "file_extension": ".py",
   "mimetype": "text/x-python",
   "name": "python",
   "nbconvert_exporter": "python",
   "pygments_lexer": "ipython2",
   "version": "2.7.6"
  }
 },
 "nbformat": 4,
 "nbformat_minor": 5
}
