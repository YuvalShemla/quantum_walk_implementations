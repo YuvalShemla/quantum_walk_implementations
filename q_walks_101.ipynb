{
 "cells": [
  {
   "cell_type": "markdown",
   "source": [
    "https://github.com/TendTo/Quantum-random-walk-simulation/blob/main/QuantumWalk.ipynb"
   ],
   "metadata": {
    "collapsed": false
   },
   "id": "dc0d0ac8941f4317"
  },
  {
   "cell_type": "code",
   "execution_count": null,
   "id": "initial_id",
   "metadata": {
    "collapsed": true
   },
   "outputs": [],
   "source": [
    "from pygments.lexers import graphviz\n",
    "import numpy as np\n",
    "import networkx as nx\n",
    "from networkx import hypercube_graph\n",
    "from networkx.drawing.nx_agraph import graphviz_layout\n",
    "import matplotlib.pyplot as plt\n",
    "from typing import Callable\n",
    "from qiskit import QuantumCircuit, QuantumRegister, ClassicalRegister, transpile\n",
    "from qiskit.quantum_info import Operator\n",
    "from qiskit.visualization import circuit_drawer, plot_histogram, plot_bloch_vector\n",
    "from qiskit_aer import AerSimulator\n",
    "backend = AerSimulator()\n",
    "from numpy import pi\n",
    "import pylatexenc\n",
    "import graphviz\n",
    "import pygraphviz\n"
   ]
  },
  {
   "cell_type": "markdown",
   "source": [
    "The Bloch sphere is a three-dimensional representation of the qubit state. Operators such as the Pauli-X, Pauli-Y and Pauli-Z operators can be used to rotate the qubit around the Bloch sphere."
   ],
   "metadata": {
    "collapsed": false
   },
   "id": "34d50934b5c58256"
  },
  {
   "cell_type": "code",
   "execution_count": null,
   "outputs": [],
   "source": [
    "coords = [1, np.pi / 2, 0]  # [Radius, Theta, Phi]\n",
    "plot_bloch_vector(coords, coord_type=\"spherical\")"
   ],
   "metadata": {
    "collapsed": false
   },
   "id": "f38e6385503f1579"
  },
  {
   "cell_type": "markdown",
   "source": [
    "When seen in the context of quantum computing, the operators we have seen so far are called quantum gates. They are usually represented by a square that applies the operator to the qubit."
   ],
   "metadata": {
    "collapsed": false
   },
   "id": "8dca467ab175ff1a"
  },
  {
   "cell_type": "code",
   "execution_count": null,
   "outputs": [],
   "source": [
    "qc = QuantumCircuit(2)\n",
    "qc.h(0)\n",
    "qc.x(1)\n",
    "qc.x(0)\n",
    "qc.y(1)\n",
    "qc.h(0)\n",
    "qc.draw(\"mpl\", initial_state=True)"
   ],
   "metadata": {
    "collapsed": false
   },
   "id": "f28b01dba2182fae"
  },
  {
   "cell_type": "markdown",
   "source": [
    "Controlled gates\n",
    "Another important building block of quantum circuits are controlled gates. They are gates that are applied to a qubit only if the controlling qubits are in a specific state, usually \n",
    ". The controlled-NOT gate is the most common controlled gate, and the corresponding matrix is:"
   ],
   "metadata": {
    "collapsed": false
   },
   "id": "6f63b6aa9c12207"
  },
  {
   "cell_type": "code",
   "execution_count": null,
   "outputs": [],
   "source": [
    "qc = QuantumCircuit(2)\n",
    "qc.x(0)\n",
    "qc.cx(0, 1)\n",
    "qc.x(0)\n",
    "qc.draw(\"mpl\", initial_state=True)"
   ],
   "metadata": {
    "collapsed": false
   },
   "id": "e14cfe8877929d76"
  },
  {
   "cell_type": "markdown",
   "source": [
    "Classical Markov chains\n",
    "A Markov chain can be seen as a set of nodes, linked to each other by a probability distribution.\n",
    "The transition between a node and the following is random and depends only on the probability of the outgoing links of the current node.\n",
    "This property is called Markovian property.\n",
    "\n",
    "Markov chain can be further classified as discrete or continuous, depending the times steps. Only discrete Markov chains are considered in this presentation.\n",
    "\n",
    "Transition matrix\n",
    "The transition matrix is a square matrix, with the number of rows and columns equal to the number of nodes.\n",
    "It is used to describe the probability of transition between nodes.\n",
    "\n",
    "The probability distribution after \n",
    " steps (or at time \n",
    ") can be obtained by multiplying the transition matrix by itself \n",
    " times: \n",
    ".\n",
    "\n",
    "An example of a transition matrix could be"
   ],
   "metadata": {
    "collapsed": false
   },
   "id": "9bf93c622e3985b8"
  },
  {
   "cell_type": "code",
   "execution_count": null,
   "outputs": [],
   "source": [
    "pos = {1: [0.75, 1.0], 2: [0.75, 0.15], 3: [0.5, -0.5], 4: [1.0, -0.5]}\n",
    "U = [\n",
    "    [0.1, 0.2, 0.6, 0.1],\n",
    "    [0.4, 0.3, 0.2, 0.1],\n",
    "    [0.4, 0.2, 0.1, 0.3],\n",
    "    [0.1, 0.0, 0.1, 0.8],\n",
    "]\n",
    "\n",
    "G = nx.DiGraph(directed=True)\n",
    "for i in range(1, 5):\n",
    "    G.add_node(i)\n",
    "    for j in range(1, 5):\n",
    "        G.add_edge(i, j, weight=U[i - 1][j - 1])\n",
    "\n",
    "nx.draw(G, pos=pos, with_labels=True)\n",
    "nx.draw_networkx_edge_labels(\n",
    "    G, pos=pos, edge_labels=nx.get_edge_attributes(G, \"weight\")\n",
    ")\n",
    "plt.show()"
   ],
   "metadata": {
    "collapsed": false
   },
   "id": "981926397058671e"
  },
  {
   "cell_type": "markdown",
   "source": [
    "Quantum walk\n",
    "Quantum walks are the equivalent to a classical Markov chain.\n",
    "Due to superposition, a quantum walk can take all possible path simultaneously until the measurement makes the system collapse.\n",
    "States can be manipulated so that some of them will cancel out, leaving only the desired one.\n",
    "\n",
    "There are two main models used to implement a quantum walk: coined walk and Szegedy walk. The two models can be equivalent under certain conditions.\n",
    "\n",
    "Coined walk\n",
    "A coined walk can be exemplified by a walk over the integer's line. The walker's position is represented with an integer\n",
    "A coin is used to decide where to move next, left or right."
   ],
   "metadata": {
    "collapsed": false
   },
   "id": "b66d4836b50e2ed1"
  },
  {
   "cell_type": "code",
   "execution_count": null,
   "outputs": [],
   "source": [
    "n_steps = 50  # Number of steps the walker will take\n",
    "pr = 0.5  # Probability of the walker stepping to the right\n",
    "initial_position = 0  # Initial position of our walker\n",
    "\n",
    "\n",
    "def random_walk(pr: float, n_steps: int, initial_pos: int) -> int:\n",
    "    \"\"\"Run a random walk with N steps and a probability of stepping to the right of pr.\n",
    "\n",
    "    Args:\n",
    "        pr: probability of stepping to the right\n",
    "        N: number of steps\n",
    "        i: initial position\n",
    "\n",
    "    Returns:\n",
    "        The final position of the walker\n",
    "    \"\"\"\n",
    "    position = initial_pos\n",
    "\n",
    "    for _ in range(n_steps):\n",
    "        coin_flip = list(\n",
    "            np.random.choice(2, 1, p=[1 - pr, pr])\n",
    "        )  # Flips our weighted coin\n",
    "        position += 2 * coin_flip[0] - 1  # Moves the walker according to the coin flip\n",
    "\n",
    "    return position\n",
    "\n",
    "\n",
    "print(f\"The walker is located at: x = {random_walk(pr, n_steps, initial_position)}\")"
   ],
   "metadata": {
    "collapsed": false
   },
   "id": "62172aad9d678629"
  },
  {
   "cell_type": "markdown",
   "source": [
    "The walker is located at: x = -12\n",
    "Once plotted, the distribution of such a walk creates the following distribution:"
   ],
   "metadata": {
    "collapsed": false
   },
   "id": "4c8d397ccb2fa61e"
  },
  {
   "cell_type": "code",
   "execution_count": null,
   "outputs": [],
   "source": [
    "def dist(n_runs: int, n_steps: int):\n",
    "    \"\"\"Plot the distribution of the random walk.\n",
    "\n",
    "    Args:\n",
    "        runs: number of runs\n",
    "        N: number of steps\n",
    "    \"\"\"\n",
    "    positions = range(-1 * n_steps, n_steps + 1)\n",
    "    instances = [0 for _ in range(-1 * n_steps, n_steps + 1)]\n",
    "\n",
    "    for _ in range(n_runs):\n",
    "        result = random_walk(pr, n_steps, initial_position)\n",
    "        instances[positions.index(result)] += 1\n",
    "\n",
    "    plt.bar(positions, [n / n_runs for n in instances])\n",
    "    plt.show()\n",
    "\n",
    "\n",
    "dist(10000, n_steps)"
   ],
   "metadata": {
    "collapsed": false
   },
   "id": "4b18eae6f656c036"
  },
  {
   "cell_type": "markdown",
   "source": [
    "Quantum coin walk\n",
    "The coin walk algorithm can be translated in a pretty straightforward way to a quantum walk. The position of the walker is encoded in a \n",
    " dimensional space, with \n",
    " possible positions. The resulting Hilbert space is \n",
    ", defined as"
   ],
   "metadata": {
    "collapsed": false
   },
   "id": "e819bad37f30073c"
  },
  {
   "cell_type": "code",
   "execution_count": null,
   "outputs": [],
   "source": [
    "# Number of qubits\n",
    "n = 3\n",
    "# Initial state\n",
    "initial_state = np.array([1] + [0] * (2**n - 1))\n",
    "assert initial_state.size == 2**n\n",
    "\n",
    "# Hadamard gate\n",
    "hadamard_gate_base = 1 / np.sqrt(2) * np.array([[1, 1], [1, -1]])\n",
    "hadamard_gate = hadamard_gate_base\n",
    "for i in range(n - 1):\n",
    "    hadamard_gate = np.kron(hadamard_gate, hadamard_gate_base)\n",
    "\n",
    "# Grover's gate\n",
    "grover_gate = np.full((2**n, 2**n), 1 / 2 ** (n - 1)) - np.eye(2**n)\n",
    "\n",
    "# Apply gates\n",
    "hadamard_res = np.dot(initial_state, hadamard_gate)\n",
    "hadamard_res = np.square(hadamard_res)\n",
    "grover_res = np.dot(initial_state, grover_gate)\n",
    "grover_res = np.square(grover_res)\n",
    "\n",
    "# Plot results\n",
    "fig, axes = plt.subplots(2)\n",
    "plt.suptitle(\"Hadamard vs Grover gates (|000>)\")\n",
    "for ax, res in zip(axes, [hadamard_res, grover_res]):\n",
    "    ax.set_ylabel(\"Probability\")\n",
    "    ax.set_ylim(0, 1)\n",
    "    ax.bar(tuple(bin(i)[2:].zfill(n) for i in range(res.size)), res)\n",
    "plt.show()"
   ],
   "metadata": {
    "collapsed": false
   },
   "id": "19d355c2c843cce0"
  },
  {
   "cell_type": "markdown",
   "source": [
    "Quantum coined walk implementation\n",
    "The implementation of the quantum coined walk will be done using the Qiskit simulator.\n",
    "The code is inspired by the one found in the Qiskit's Quantum Walk Search Algorithm and Google's Quantum walk examples."
   ],
   "metadata": {
    "collapsed": false
   },
   "id": "dfb797ecb5af30b8"
  },
  {
   "cell_type": "code",
   "execution_count": null,
   "outputs": [],
   "source": [
    "n_walker_qubits = 4  # The number of qubits used to represent the position of the walker\n",
    "\n",
    "\n",
    "def coined_walk_circuit(\n",
    "    n_walker_qubits: int,\n",
    ") -> tuple[QuantumCircuit, QuantumRegister, QuantumRegister, ClassicalRegister]:\n",
    "    \"\"\"Create a quantum circuit for the quantum walk.\n",
    "\n",
    "    Args:\n",
    "        n_walker_qubits: number of qubits used to represent the position of the walker\n",
    "\n",
    "    Returns:\n",
    "        a tuple containing the circuit, the walker qubits, the coin qubits and the classical register to store the output\n",
    "    \"\"\"\n",
    "    walker_r = QuantumRegister(n_walker_qubits, name=\"w\")\n",
    "    coin_r = QuantumRegister(1, name=\"c\")  # The coin requires only one qubit\n",
    "    classic_r = ClassicalRegister(n_walker_qubits, name=\"output\")\n",
    "    qc = QuantumCircuit(walker_r, coin_r, classic_r)\n",
    "    return qc, walker_r, coin_r, classic_r\n",
    "\n",
    "\n",
    "qc, _, _, _ = coined_walk_circuit(n_walker_qubits)\n",
    "qc.draw(output=\"mpl\", initial_state=True)"
   ],
   "metadata": {
    "collapsed": false
   },
   "id": "a773018605266f2e"
  },
  {
   "cell_type": "code",
   "execution_count": null,
   "outputs": [],
   "source": [
    "initial_position = 2 ** (\n",
    "    n_walker_qubits - 1\n",
    ")  # The initial position of the walker is the middle of all possible positions\n",
    "initial_coin_value = 1  # The initial value of the coin is 0\n",
    "\n",
    "\n",
    "def initialize_coined_walk_circuit(\n",
    "    qc: QuantumCircuit,\n",
    "    walker_r: QuantumRegister,\n",
    "    coin_r: QuantumRegister,\n",
    "    initial_position: int,\n",
    "    initial_coin_value: int,\n",
    ") -> QuantumCircuit:\n",
    "    \"\"\"Initialize the circuit with the initial position of the walker and the initial value of the coin.\n",
    "\n",
    "    Args:\n",
    "        qc: the quantum circuit\n",
    "        walker_r: the quantum register containing the walker's position qubits\n",
    "        coin_r: the quantum register containing the coin qubit\n",
    "        initial_position: the initial position of the walker\n",
    "        initial_coin_value: the initial value of the coin\n",
    "\n",
    "    Returns:\n",
    "        the initialized quantum circuit\n",
    "    \"\"\"\n",
    "    if initial_coin_value == 1:\n",
    "        qc.x(coin_r)\n",
    "    for i in range(n_walker_qubits):\n",
    "        if initial_position & (1 << i):\n",
    "            qc.x(walker_r[n_walker_qubits - i - 1])\n",
    "    qc.barrier()\n",
    "    return qc\n",
    "\n",
    "\n",
    "qc, walker_r, coin_r, _ = coined_walk_circuit(n_walker_qubits)\n",
    "qc = initialize_coined_walk_circuit(\n",
    "    qc, walker_r, coin_r, initial_position, initial_coin_value\n",
    ")\n",
    "qc.draw(output=\"mpl\", initial_state=True)"
   ],
   "metadata": {
    "collapsed": false
   },
   "id": "a500a1e4a5d3d67d"
  },
  {
   "cell_type": "markdown",
   "source": [
    "Operators\n",
    "Coin operator\n",
    "For the coin operator, the simplest choice is to use the Hadamard gate. When applied to the coin qubit, it will be put in a state of superposition.\n",
    "\n",
    "Shift operator\n",
    "The shift operator has to be able to either increment or decrement the walker position, depending on the state of the coin. This can be achieved by using an addition operator, controlled by the coin state.\n",
    "Since all operators are unitary, once an addition operator A is found, building a corresponding subtraction operator is trivial."
   ],
   "metadata": {
    "collapsed": false
   },
   "id": "713f0af43b3e45b4"
  },
  {
   "cell_type": "code",
   "execution_count": null,
   "outputs": [],
   "source": [
    "def coined_walk_step(\n",
    "    qc: QuantumCircuit, walker_r: QuantumRegister, coin_r: QuantumRegister\n",
    ") -> QuantumCircuit:\n",
    "    \"\"\"Single step of the quantum walk.\n",
    "\n",
    "    Args:\n",
    "        qc: quantum circuit\n",
    "        walker_r: the quantum register containing the walker's position qubits\n",
    "        coin_r: the quantum register containing the coin qubit\n",
    "\n",
    "    Returns:\n",
    "        quantum circuit with an added walk step\n",
    "    \"\"\"\n",
    "\n",
    "    # \"Flip\" the coin vector\n",
    "    qc.h(coin_r)\n",
    "\n",
    "    # Implement the Addition Operator\n",
    "    for i in reversed(range(len(walker_r))):\n",
    "        # Qubits with less significant bits than the current one\n",
    "        controls = [walker_r[v] for v in range(len(walker_r) - 1, i, -1)]\n",
    "        controls.append(coin_r)  # The coin qubit is also used as a control\n",
    "        qc.mcx(controls, walker_r[i])  # Multi-controlled X gate\n",
    "        if i != 0:\n",
    "            qc.x(walker_r[i])  # Flip the qubit\n",
    "\n",
    "    # Switch the coin vector\n",
    "    qc.x(coin_r)\n",
    "\n",
    "    # Implement the Subtraction Operator\n",
    "    for i in range(len(walker_r)):\n",
    "        if i != 0:\n",
    "            qc.x(walker_r[i])  # Reverse the flip\n",
    "        # Qubits with less significant bits than the current one\n",
    "        controls = [walker_r[v] for v in range(len(walker_r) - 1, i, -1)]\n",
    "        controls.append(coin_r)  # The coin qubit is also used as a control\n",
    "        qc.mcx(controls, walker_r[i])  # Multi-controlled X gate\n",
    "\n",
    "    # Revert the switch of the coin vector\n",
    "    qc.x(coin_r)\n",
    "\n",
    "    return qc\n",
    "\n",
    "\n",
    "qc, walker_r, coin_r, _ = coined_walk_circuit(n_walker_qubits)\n",
    "qc = coined_walk_step(qc, walker_r, coin_r)\n",
    "qc.draw(output=\"mpl\", initial_state=True)"
   ],
   "metadata": {
    "collapsed": false
   },
   "id": "74c0f03835ff4574"
  },
  {
   "cell_type": "markdown",
   "source": [
    "Circuit\n",
    "With all the operators defined, the circuit can be built by iterating the single step operator as many times as needed. Finally, the walker position is measured and the result is stored in the classical bits.\n",
    "\n",
    "Mind that we could just take one step at a time and collapse the state of the circuit by measuring it. This would be equivalent to a classical random walk, and would not take advantage of the quantum properties of the system."
   ],
   "metadata": {
    "collapsed": false
   },
   "id": "60c4203ac9b7b800"
  },
  {
   "cell_type": "code",
   "execution_count": null,
   "outputs": [],
   "source": [
    "n_steps = 5  # The number of steps of the quantum walk\n",
    "\n",
    "\n",
    "def coined_walk(\n",
    "    n_walker_qubits: int,\n",
    "    n_steps: int,\n",
    "    initial_position: int,\n",
    "    initial_coin_value: int,\n",
    "    init_func: Callable,\n",
    ") -> QuantumCircuit:\n",
    "    \"\"\"Create a quantum circuit for the quantum walk.\n",
    "\n",
    "    Args:\n",
    "        n_walker_qubits: number of qubits used to represent the position of the walker\n",
    "        n_steps: number of steps of the quantum walk\n",
    "        initial_position: initial position of the walker\n",
    "        initial_coin_value: initial value of the coin\n",
    "        init_func: function used to initialize the circuit\n",
    "\n",
    "    Returns:\n",
    "        quantum circuit for the quantum walk\n",
    "    \"\"\"\n",
    "    qc, walker_r, coin_r, classic_r = coined_walk_circuit(n_walker_qubits)\n",
    "    qc = init_func(qc, walker_r, coin_r, initial_position, initial_coin_value)\n",
    "    for i in range(n_steps):\n",
    "        step_gate = coined_walk_step(QuantumCircuit(walker_r, coin_r), walker_r, coin_r)\n",
    "        qc.append(step_gate.to_gate(label=f\"Step #{i + 1}\"), walker_r[:] + coin_r[:])\n",
    "    qc.barrier()\n",
    "    qc.measure(walker_r, reversed(classic_r))\n",
    "    return qc\n",
    "\n",
    "\n",
    "qc = coined_walk(\n",
    "    n_walker_qubits,\n",
    "    n_steps,\n",
    "    initial_position,\n",
    "    initial_coin_value,\n",
    "    initialize_coined_walk_circuit,\n",
    ")\n",
    "qc.draw(output=\"mpl\", initial_state=True)"
   ],
   "metadata": {
    "collapsed": false
   },
   "id": "b32d92b87a7bc1ab"
  },
  {
   "cell_type": "markdown",
   "source": [],
   "metadata": {
    "collapsed": false
   },
   "id": "5be88fd450cfc3f3"
  },
  {
   "cell_type": "code",
   "execution_count": null,
   "outputs": [],
   "source": [
    "n_walker_qubits = 6  # The number of qubits used to represent the position of the walker\n",
    "n_steps = 30  # The number of steps of the quantum walk\n",
    "initial_position = 2 ** (\n",
    "    n_walker_qubits - 1\n",
    ")  # The initial position of the walker is the middle of all possible positions\n",
    "initial_coin_value = 0  # The initial value of the coin is 0\n",
    "n_runs = 5000  # The number of runs of the quantum circuit\n",
    "\n",
    "qc = coined_walk(\n",
    "    n_walker_qubits,\n",
    "    n_steps,\n",
    "    initial_position,\n",
    "    initial_coin_value,\n",
    "    initialize_coined_walk_circuit,\n",
    ")\n",
    "\n",
    "\n",
    "def plot_results(qc: QuantumCircuit, n_runs: int, title: str):\n",
    "    \"\"\"Plot the results of the quantum walk.\n",
    "\n",
    "    Args:\n",
    "        qc: quantum circuit for the quantum walk\n",
    "        n_runs: number of runs of the quantum circuit\n",
    "\n",
    "    Returns:\n",
    "        histogram of the results of the quantum walk\n",
    "    \"\"\"\n",
    "    simulator = AerSimulator() \n",
    "    transpiled_qc = transpile(qc, simulator)\n",
    "    results = simulator.run(transpiled_qc, shots=n_runs).result()\n",
    "    counts = results.get_counts(transpiled_qc)\n",
    "    counts = {int(k, 2): v for k, v in counts.items()}\n",
    "    return plot_histogram(counts, title=title)\n",
    "\n",
    "\n",
    "plot_results(qc, n_runs, \"Quantum Coined Walk\")"
   ],
   "metadata": {
    "collapsed": false
   },
   "id": "2e249aae3827356a"
  },
  {
   "cell_type": "markdown",
   "source": [
    "Balanced coin\n",
    "To avoid this bias, why may use another coin, or ensure that the starting state of the coin is equal to \n",
    " \n",
    ". This can be achieved by applying a Hadamard gate followed by an \n",
    " gate to the coin qubit before starting the walk.\n",
    " "
   ],
   "metadata": {
    "collapsed": false
   },
   "id": "281a385db439026b"
  },
  {
   "cell_type": "code",
   "execution_count": null,
   "outputs": [],
   "source": [
    "def initialize_balance_coined_walk_circuit(\n",
    "    qc: QuantumCircuit,\n",
    "    walker_r: QuantumRegister,\n",
    "    coin_r: QuantumRegister,\n",
    "    initial_position: int,\n",
    "    initial_coin_value: int,\n",
    ") -> QuantumCircuit:\n",
    "    \"\"\"Initialize the circuit with the initial position of the walker and the initial value of the coin.\n",
    "    Set the coin qubit to |+> and apply the S gate to it to make sure that the coin operator keeps being balanced.\n",
    "\n",
    "    Args:\n",
    "        qc: the quantum circuit\n",
    "        walker_r: the quantum register containing the walker's position qubits\n",
    "        coin_r: the quantum register containing the coin qubit\n",
    "        initial_position: the initial position of the walker\n",
    "        initial_coin_value: the initial value of the coin\n",
    "\n",
    "    Returns:\n",
    "        the initialized quantum circuit\n",
    "    \"\"\"\n",
    "    if initial_coin_value == 1:\n",
    "        qc.x(coin_r)\n",
    "    qc.h(coin_r)\n",
    "    qc.s(coin_r)\n",
    "    for i in range(n_walker_qubits):\n",
    "        if initial_position & (1 << i):\n",
    "            qc.x(walker_r[n_walker_qubits - i - 1])\n",
    "    qc.barrier()\n",
    "    return qc\n",
    "\n",
    "\n",
    "qc, walker_r, coin_r, _ = coined_walk_circuit(n_walker_qubits)\n",
    "qc = initialize_balance_coined_walk_circuit(\n",
    "    qc, walker_r, coin_r, initial_position, initial_coin_value\n",
    ")\n",
    "qc.draw(output=\"mpl\", initial_state=True)"
   ],
   "metadata": {
    "collapsed": false
   },
   "id": "274480ba65e4ea8a"
  },
  {
   "cell_type": "markdown",
   "source": [
    "Balanced coin results\n",
    "Having the coin in this starting state produces results that are more evenly distributed across the graph.\n"
   ],
   "metadata": {
    "collapsed": false
   },
   "id": "a559145ccdb5baf5"
  },
  {
   "cell_type": "code",
   "execution_count": null,
   "outputs": [],
   "source": [
    "n_walker_qubits = 6  # The number of qubits used to represent the position of the walker\n",
    "n_steps = 30  # The number of steps of the quantum walk\n",
    "initial_position = 2 ** (\n",
    "    n_walker_qubits - 1\n",
    ")  # The initial position of the walker is the middle of all possible positions\n",
    "initial_coin_value = 0  # The initial value of the coin is 0\n",
    "n_runs = 5000  # The number of runs of the quantum circuit\n",
    "\n",
    "qc = coined_walk(\n",
    "    n_walker_qubits,\n",
    "    n_steps,\n",
    "    initial_position,\n",
    "    initial_coin_value,\n",
    "    initialize_balance_coined_walk_circuit,\n",
    ")\n",
    "\n",
    "plot_results(qc, n_runs, \"Balanced Quantum Coined Walk\")"
   ],
   "metadata": {
    "collapsed": false
   },
   "id": "7761c0c07911b857"
  },
  {
   "cell_type": "markdown",
   "source": [
    "\n",
    "Conclusion\n",
    "When compared to the classical random walk, it becomes clear that the quantum coined walk results lack the Gaussian properties of the classical random walk. The statistical analysis of its behavior becomes more difficult.\n",
    "\n",
    "On the other hand, in can be proven that the standard deviation of the distribution, its width, is \n",
    ", when the classical counterpart has a standard deviation of \n",
    ". The quantum walk travel much further than a classical walk with the same number of steps.\n",
    "This allows certain problems to be solved more efficiently with a quantum approach, such as Grover's search algorithm."
   ],
   "metadata": {
    "collapsed": false
   },
   "id": "5b0d85ac50a8519f"
  }
 ],
 "metadata": {
  "kernelspec": {
   "display_name": "Python 3",
   "language": "python",
   "name": "python3"
  },
  "language_info": {
   "codemirror_mode": {
    "name": "ipython",
    "version": 2
   },
   "file_extension": ".py",
   "mimetype": "text/x-python",
   "name": "python",
   "nbconvert_exporter": "python",
   "pygments_lexer": "ipython2",
   "version": "2.7.6"
  }
 },
 "nbformat": 4,
 "nbformat_minor": 5
}
