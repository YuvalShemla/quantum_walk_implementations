{
 "cells": [
  {
   "cell_type": "code",
   "execution_count": null,
   "outputs": [],
   "source": [
    "import networkx as nx\n",
    "from networkx.drawing.nx_agraph import to_agraph\n",
    "import matplotlib.pyplot as plt\n",
    "from IPython.display import Image, display\n",
    "import tempfile\n",
    "\n",
    "\n",
    "\n",
    "def plot_star_graph_pygraphviz(G, title):\n",
    "\n",
    "    # Convert NetworkX graph to PyGraphviz AGraph\n",
    "    A = to_agraph(G)\n",
    "    \n",
    "    # Customize node attributes\n",
    "    for node in G.nodes():\n",
    "        n = A.get_node(node)\n",
    "        if node == 0:\n",
    "            # Central node: red, larger size, diamond shape\n",
    "            n.attr['color'] = 'red'\n",
    "            n.attr['style'] = 'filled'\n",
    "            n.attr['fillcolor'] = 'lightcoral'\n",
    "            n.attr['width'] = '0.5'  \n",
    "            n.attr['height'] = '0.5'  \n",
    "            n.attr['shape'] = 'circle'\n",
    "            n.attr['fixedsize'] = 'true'  # Ensures consistent sizing\n",
    "\n",
    "        else:\n",
    "            # Leaf nodes: green, smaller size, circle shape\n",
    "            n.attr['color'] = 'green'\n",
    "            n.attr['style'] = 'filled'\n",
    "            n.attr['fillcolor'] = 'lightgreen'\n",
    "            n.attr['width'] = '0.3'   \n",
    "            n.attr['height'] = '0.3'  \n",
    "            n.attr['shape'] = 'circle'\n",
    "            n.attr['fixedsize'] = 'true'  # Ensures consistent sizing\n",
    "\n",
    "    \n",
    "    # Customize edge attributes\n",
    "    for edge in G.edges():\n",
    "        e = A.get_edge(edge[0], edge[1])\n",
    "        e.attr['color'] = 'gray'\n",
    "        e.attr['penwidth'] = '1'  # Thinner edges for better aesthetics\n",
    "    \n",
    "    # Apply the 'twopi' layout for radial arrangement\n",
    "    A.layout('twopi', args='-Gsize=5,5!')\n",
    "    \n",
    "    # Draw the graph to a temporary file and display it\n",
    "    with tempfile.NamedTemporaryFile(suffix=\".png\") as tmpfile:\n",
    "        A.draw(tmpfile.name)\n",
    "        display(Image(filename=tmpfile.name))\n",
    "\n",
    "# Plot the star graph\n",
    "\n",
    "# Number of leaf nodes\n",
    "leaf_num = 10 # Adjust as needed\n",
    "\n",
    "# Create a star graph\n",
    "G = nx.star_graph(leaf_num)\n",
    "\n",
    "plot_star_graph_pygraphviz(G, \"Star Graph Visualization\")\n"
   ],
   "metadata": {
    "collapsed": false
   },
   "id": "14127b713f74d44b"
  },
  {
   "cell_type": "markdown",
   "source": [
    "### Quantum Walk on a Star Graph using Qiskit\n",
    "This notebook implements a quantum walk on a star graph using Qiskit. We'll define the necessary functions, set up the quantum circuit, perform the quantum walk, and visualize the results."
   ],
   "metadata": {
    "collapsed": false
   },
   "id": "e9be95ec24bd55b7"
  },
  {
   "cell_type": "code",
   "execution_count": null,
   "outputs": [],
   "source": [
    "from qiskit import QuantumCircuit, QuantumRegister, ClassicalRegister, transpile\n",
    "from qiskit_aer import AerSimulator\n",
    "backend = AerSimulator()\n",
    "from math import ceil, log2\n",
    "from qiskit.circuit.library import MCXGate\n",
    "import numpy as np\n",
    "from qiskit.visualization import plot_circuit_layout, plot_histogram\n",
    "import matplotlib.pyplot as plt\n"
   ],
   "metadata": {
    "collapsed": false
   },
   "id": "d24d65b54cba5396"
  },
  {
   "cell_type": "markdown",
   "source": [
    "### Define the Star Graph Parameters and create the circuit\n",
    "Set the number of leaf nodes n and calculate the total number of vertices.\n",
    "\n",
    "Ancilla Register Fix: Created the ancilla_register once and added it to the circuit. We'll pass it to functions instead of creating it inside them.\n",
    "Registers:\n",
    "position_register: Represents the walker's position.\n",
    "coin_register: Represents the coin state controlling the walker's direction.\n",
    "ancilla_register: Used for controlled operations.\n",
    "classical_register: Stores measurement results."
   ],
   "metadata": {
    "collapsed": false
   },
   "id": "a9b109008cabccb1"
  },
  {
   "cell_type": "code",
   "execution_count": null,
   "outputs": [],
   "source": [
    "n = 5  # Number of leaf vertices; adjust as needed\n",
    "num_vertices = n + 1  # Total vertices (1 central + n leaves)\n",
    "\n",
    "# Calculate the number of qubits needed\n",
    "num_position_qubits = ceil(log2(num_vertices))  # Position register qubits\n",
    "num_coin_qubits = ceil(log2(n))  # Coin register qubits\n",
    "\n",
    "print(f\"Position qubits: {num_position_qubits}, Coin qubits: {num_coin_qubits}\")\n",
    "\n",
    "# Create quantum registers\n",
    "position_register = QuantumRegister(num_position_qubits, name='pos')\n",
    "coin_register = QuantumRegister(num_coin_qubits, name='coin')\n",
    "ancilla_register = QuantumRegister(1, name='ancilla')  # Create ancilla register once\n",
    "classical_register = ClassicalRegister(num_position_qubits, name='c')\n",
    "\n",
    "# Create the quantum circuit\n",
    "qc = QuantumCircuit(position_register, coin_register, ancilla_register, classical_register)\n",
    "\n",
    "# Initialize the coin register in superposition\n",
    "qc.h(coin_register)\n",
    "\n",
    "qc.draw(output=\"mpl\", initial_state=True)"
   ],
   "metadata": {
    "collapsed": false
   },
   "id": "8b62cebea52bc25a"
  },
  {
   "cell_type": "markdown",
   "source": [
    "### Define the Grover Coin Operator\n",
    "Grover Coin Operator: Mixes the coin states to create superposition and interference.\n",
    "Multi-Controlled Gates: Used for applying operations controlled on multiple qubits."
   ],
   "metadata": {
    "collapsed": false
   },
   "id": "7890ed908a9f7984"
  },
  {
   "cell_type": "code",
   "execution_count": null,
   "outputs": [],
   "source": [
    "# Cell 3: Define the Grover coin operator function\n",
    "def grover_coin(qc, coin_qubits):\n",
    "    \"\"\"\n",
    "    Implements the Grover diffusion operator on the coin qubits.\n",
    "    \"\"\"\n",
    "    num_qubits = len(coin_qubits)\n",
    "    # Apply Hadamard gates to all coin qubits\n",
    "    qc.h(coin_qubits)\n",
    "    # Apply X gates to all coin qubits\n",
    "    qc.x(coin_qubits)\n",
    "    if num_qubits > 1:\n",
    "        # Apply multi-controlled x gate\n",
    "        qc.h(coin_qubits[-1])\n",
    "        mcx = MCXGate(num_qubits - 1)  # Multi-controlled X gate\n",
    "        qc.append(mcx, coin_qubits[:-1] + [coin_qubits[-1]])\n",
    "        qc.h(coin_qubits[-1])\n",
    "    else:\n",
    "        # For a single qubit, apply Z gate\n",
    "        qc.z(coin_qubits[0])\n",
    "    # Apply X gates to all coin qubits\n",
    "    qc.x(coin_qubits)\n",
    "    # Apply Hadamard gates to all coin qubits\n",
    "    qc.h(coin_qubits)\n",
    "\n",
    "# Cell 4: Create the Grover coin operator as a gate\n",
    "def grover_coin_gate(num_qubits):\n",
    "    \"\"\"\n",
    "    Creates a gate representation of the Grover coin operator.\n",
    "    \"\"\"\n",
    "    grover_qc = QuantumCircuit(num_qubits, name='Grover')\n",
    "    grover_coin(grover_qc, grover_qc.qubits)\n",
    "    return grover_qc.to_gate()"
   ],
   "metadata": {
    "collapsed": false
   },
   "id": "4d3d9c51aeea5d91"
  },
  {
   "cell_type": "markdown",
   "source": [
    "### Define the Coin Operator Application Function\n",
    "Ancilla Qubit Usage: Passed ancilla_qubit as an argument instead of creating a new register.\n",
    "Controlled Operations: The Grover coin operator is applied only if the walker is at the central vertex (|0> state)."
   ],
   "metadata": {
    "collapsed": false
   },
   "id": "d6473433cf0d4b2a"
  },
  {
   "cell_type": "code",
   "execution_count": null,
   "outputs": [],
   "source": [
    "# Cell 5: Apply the coin operator conditionally\n",
    "def apply_coin_operator(qc, position_qubits, coin_qubits, ancilla_qubit):\n",
    "    \"\"\"\n",
    "    Applies the Grover coin operator only when the walker is at the central vertex.\n",
    "    \"\"\"\n",
    "    num_pos_qubits = len(position_qubits)\n",
    "    num_coin_qubits = len(coin_qubits)\n",
    "\n",
    "    # Check if the walker is at the central vertex |0>\n",
    "    # Flip position qubits to check for |0>\n",
    "    qc.x(position_qubits)\n",
    "    # Apply multi-controlled X gate controlled on position qubits\n",
    "    mcx = MCXGate(num_pos_qubits)\n",
    "    qc.append(mcx, position_qubits[:] + [ancilla_qubit])\n",
    "    # Flip back position qubits\n",
    "    qc.x(position_qubits)\n",
    "\n",
    "    # Apply the Grover coin operator controlled on the ancilla qubit\n",
    "    grover_gate = grover_coin_gate(num_coin_qubits)\n",
    "    controlled_grover = grover_gate.control(1)\n",
    "    qc.append(controlled_grover, [ancilla_qubit] + list(coin_qubits))\n",
    "\n",
    "    # Reverse the ancilla qubit\n",
    "    qc.x(position_qubits)\n",
    "    qc.append(mcx, position_qubits[:] + [ancilla_qubit])\n",
    "    qc.x(position_qubits)\n"
   ],
   "metadata": {
    "collapsed": false
   },
   "id": "5e9c853290c5fa12"
  },
  {
   "cell_type": "markdown",
   "source": [
    "### Define the Shift Operator\n",
    "Shift Operator: Swaps the walker's position based on the coin state.\n",
    "Multi-Controlled Gates: Used to conditionally flip position qubits."
   ],
   "metadata": {
    "collapsed": false
   },
   "id": "b1d0116c5fb82fb4"
  },
  {
   "cell_type": "code",
   "execution_count": null,
   "outputs": [],
   "source": [
    "# Cell 6: Define the shift operator function\n",
    "def shift_operator(qc, position_qubits, coin_qubits):\n",
    "    \"\"\"\n",
    "    Moves the walker based on the coin state by flipping position qubits.\n",
    "    \"\"\"\n",
    "    num_pos_qubits = len(position_qubits)\n",
    "    num_coin_qubits = len(coin_qubits)\n",
    "\n",
    "    for i in range(n):\n",
    "        # Coin state in binary\n",
    "        coin_state = format(i, f'0{num_coin_qubits}b')\n",
    "        # Leaf vertex index (i + 1) in binary\n",
    "        leaf_vertex = format(i + 1, f'0{num_pos_qubits}b')\n",
    "\n",
    "        # Prepare coin qubit controls\n",
    "        controls = []\n",
    "        for idx, bit in enumerate(coin_state):\n",
    "            if bit == '0':\n",
    "                qc.x(coin_qubits[idx])  # Flip qubit if bit is '0'\n",
    "            controls.append(coin_qubits[idx])\n",
    "\n",
    "        # Flip position qubits based on the coin state\n",
    "        for idx, bit in enumerate(leaf_vertex):\n",
    "            if bit == '1':\n",
    "                qc.mcx(controls, position_register[idx])\n",
    "\n",
    "        # Reset coin qubits if they were flipped\n",
    "        for idx, bit in enumerate(coin_state):\n",
    "            if bit == '0':\n",
    "                qc.x(coin_qubits[idx])\n"
   ],
   "metadata": {
    "collapsed": false
   },
   "id": "ee997ca703b16699"
  },
  {
   "cell_type": "markdown",
   "source": [
    "### Define the Quantum Walk Step Function"
   ],
   "metadata": {
    "collapsed": false,
    "ExecuteTime": {
     "end_time": "2024-10-10T18:59:15.538991Z",
     "start_time": "2024-10-10T18:59:15.534140Z"
    }
   },
   "id": "362c4de2abb08d61"
  },
  {
   "cell_type": "code",
   "execution_count": null,
   "outputs": [],
   "source": [
    "# Cell 7: Define the quantum walk step function\n",
    "def quantum_walk_step(qc, position_qubits, coin_qubits, ancilla_qubit):\n",
    "    \"\"\"\n",
    "    Performs one step of the quantum walk by applying the coin and shift operators.\n",
    "    \"\"\"\n",
    "    apply_coin_operator(qc, position_qubits, coin_qubits, ancilla_qubit)\n",
    "    shift_operator(qc, position_qubits, coin_qubits)\n"
   ],
   "metadata": {
    "collapsed": false
   },
   "id": "884534e4710730e6"
  },
  {
   "cell_type": "markdown",
   "source": [
    "### Perform the Quantum Walk\n",
    "1) Quantum Walk Loop: Repeats the quantum walk step for the specified number of steps.\n",
    "Ancilla Qubit Passing: Passed the ancilla qubit to quantum_walk_step and related functions.\n",
    ".\n",
    "2) Measure the Position Register\n",
    ".\n",
    "3) Execute the Circuit and Display Results\n",
    ".\n",
    "4) Display the results\n"
   ],
   "metadata": {
    "collapsed": false,
    "ExecuteTime": {
     "end_time": "2024-10-10T19:00:10.826865Z",
     "start_time": "2024-10-10T19:00:10.818122Z"
    }
   },
   "id": "8a069b7660ac88ef"
  },
  {
   "cell_type": "code",
   "execution_count": null,
   "outputs": [],
   "source": [
    "# 1.Quantum Walk Loop\n",
    "num_steps = 1  # Adjust as needed\n",
    "for _ in range(num_steps):\n",
    "    quantum_walk_step(qc, position_register, coin_register, ancilla_register[0])\n",
    "qc.barrier()\n",
    "\n",
    "# 2. Measure the Position Register\n",
    "qc.measure(position_register, reversed(classical_register))\n",
    "\n",
    "# 3. Execute the Circuit and Display Results\n",
    "simulator = AerSimulator()\n",
    "transpiled_qc = transpile(qc, simulator)\n",
    "shots = 1024\n",
    "results = simulator.run(transpiled_qc, shots=shots).result()\n",
    "counts = results.get_counts(transpiled_qc)\n",
    "\n",
    "# 4. Display the results\n",
    "print(\"\\nQuantum Walk Results:\")\n",
    "for outcome in sorted(counts, key=counts.get, reverse=True):\n",
    "    position = int(outcome, 2)\n",
    "    print(f\"Vertex {position}: {counts[outcome]} occurrences\")\n",
    "    \n",
    "plot_histogram(counts, title=\"Quantum Walk on a Star Graph\")\n",
    "plt.show()\n",
    "\n",
    "print(\"\\nQuantum Walk Results:\")\n",
    "total_counts = sum(counts.values())"
   ],
   "metadata": {
    "collapsed": false
   },
   "id": "7ab8a1655c69d31e"
  },
  {
   "cell_type": "markdown",
   "source": [
    "### Display Results with Probabilities"
   ],
   "metadata": {
    "collapsed": false,
    "ExecuteTime": {
     "end_time": "2024-10-10T19:00:18.732203Z",
     "start_time": "2024-10-10T19:00:15.959270Z"
    }
   },
   "id": "a01ea920947d7fea"
  },
  {
   "cell_type": "code",
   "execution_count": null,
   "outputs": [],
   "source": [
    "import matplotlib.pyplot as plt\n",
    "from matplotlib.patches import Patch\n",
    "\n",
    "# Prepare data for plotting\n",
    "nodes = sorted([int(k, 2) for k in counts.keys()])\n",
    "probs = [counts[format(node, f'0{num_position_qubits}b')] / total_counts for node in nodes]\n",
    "\n",
    "# Create color mapping: red for central node, green for peripheral nodes\n",
    "colors = ['red' if node == 0 else 'green' for node in nodes]\n",
    "\n",
    "# Plot the bar chart\n",
    "plt.figure(figsize=(10, 6))\n",
    "bars = plt.bar(nodes, probs, color=colors, tick_label=nodes)\n",
    "plt.xlabel('Vertex Index')\n",
    "plt.ylabel('Probability')\n",
    "plt.title('Quantum Walk on a Star Graph')\n",
    "\n",
    "# Add legend to differentiate central and peripheral nodes\n",
    "legend_elements = [\n",
    "    Patch(facecolor='red', label='Central Node'),\n",
    "    Patch(facecolor='green', label='Peripheral Nodes')\n",
    "]\n",
    "plt.legend(handles=legend_elements)\n",
    "\n",
    "plt.show()"
   ],
   "metadata": {
    "collapsed": false
   },
   "id": "5c67ba3e621b4e2e"
  },
  {
   "cell_type": "markdown",
   "source": [
    "### Draw the circuit (May crush)"
   ],
   "metadata": {
    "collapsed": false
   },
   "id": "e82707eb46af066e"
  },
  {
   "cell_type": "code",
   "execution_count": null,
   "outputs": [],
   "source": [
    "qc.draw(output=\"mpl\", initial_state=True)"
   ],
   "metadata": {
    "collapsed": false
   },
   "id": "f09a761417c285eb"
  },
  {
   "cell_type": "code",
   "execution_count": null,
   "outputs": [],
   "source": [],
   "metadata": {
    "collapsed": false
   },
   "id": "f05e126fdcb2f9a0"
  }
 ],
 "metadata": {
  "kernelspec": {
   "display_name": "Python 3",
   "language": "python",
   "name": "python3"
  },
  "language_info": {
   "codemirror_mode": {
    "name": "ipython",
    "version": 2
   },
   "file_extension": ".py",
   "mimetype": "text/x-python",
   "name": "python",
   "nbconvert_exporter": "python",
   "pygments_lexer": "ipython2",
   "version": "2.7.6"
  }
 },
 "nbformat": 4,
 "nbformat_minor": 5
}
